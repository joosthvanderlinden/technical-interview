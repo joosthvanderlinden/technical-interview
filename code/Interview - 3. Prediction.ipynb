{
 "cells": [
  {
   "cell_type": "markdown",
   "metadata": {
    "slideshow": {
     "slide_type": "subslide"
    }
   },
   "source": [
    "## Technical interview\n",
    "By Joost van der Linden, February 11th, 2019.\n",
    "\n",
    "### Part 3: Data prediction\n",
    "Tasks covered: data transformation, visualization & machine learning."
   ]
  },
  {
   "cell_type": "code",
   "execution_count": 1,
   "metadata": {
    "slideshow": {
     "slide_type": "subslide"
    }
   },
   "outputs": [],
   "source": [
    "# To auto-reload scripts from /src:\n",
    "%load_ext autoreload\n",
    "%autoreload 1\n",
    "\n",
    "import os\n",
    "import sys\n",
    "src_dir = os.path.join(os.getcwd(), 'src')\n",
    "sys.path.append(src_dir)\n",
    "% aimport my_predict\n",
    "import my_predict"
   ]
  },
  {
   "cell_type": "code",
   "execution_count": 2,
   "metadata": {
    "slideshow": {
     "slide_type": "subslide"
    }
   },
   "outputs": [],
   "source": [
    "import pandas as pd\n",
    "import numpy as np\n",
    "\n",
    "from sklearn.preprocessing import StandardScaler\n",
    "\n",
    "import xgboost as xgb\n",
    "from xgboost import XGBClassifier\n",
    "\n",
    "import matplotlib as mpl\n",
    "import matplotlib.pyplot as plt \n",
    "%matplotlib inline\n",
    "\n",
    "import seaborn as sns\n",
    "sns.set(style=\"white\", rc={\"axes.facecolor\": (0, 0, 0, 0)}, font_scale=1.0)\n",
    "\n",
    "data_dir = '../data'"
   ]
  },
  {
   "cell_type": "code",
   "execution_count": 3,
   "metadata": {
    "slideshow": {
     "slide_type": "subslide"
    }
   },
   "outputs": [],
   "source": [
    "columns_to_drop = [\n",
    "    'education-num',              # cheating\n",
    "    'education',                  # cheating\n",
    "    'estimated-graduation-year'   # knowledge leak\n",
    "]\n",
    "\n",
    "df_train = (pd.read_pickle(data_dir + '/processed/adult-train-preprocessed.pickle')\n",
    "              .drop(columns = columns_to_drop))\n",
    "df_test  = (pd.read_pickle(data_dir + '/processed/adult-test-preprocessed.pickle')\n",
    "              .drop(columns = columns_to_drop))"
   ]
  },
  {
   "cell_type": "code",
   "execution_count": 4,
   "metadata": {
    "slideshow": {
     "slide_type": "subslide"
    }
   },
   "outputs": [],
   "source": [
    "target_variable      = 'college-educated'\n",
    "numeric_features     = [c for c in df_train if np.issubdtype(df_train[c].dtype, np.number)]\n",
    "categorical_features = list(set(df_train.columns) - set(numeric_features + [target_variable]))"
   ]
  },
  {
   "cell_type": "markdown",
   "metadata": {
    "slideshow": {
     "slide_type": "subslide"
    }
   },
   "source": [
    "### 3.1 Feature preparation\n",
    "#### 3.1.1 Categorical features\n",
    "One-hot encoding"
   ]
  },
  {
   "cell_type": "code",
   "execution_count": 5,
   "metadata": {
    "slideshow": {
     "slide_type": "fragment"
    }
   },
   "outputs": [],
   "source": [
    "df_train = pd.get_dummies(df_train, columns = categorical_features)\n",
    "df_test  = pd.get_dummies(df_test, columns = categorical_features)"
   ]
  },
  {
   "cell_type": "markdown",
   "metadata": {
    "slideshow": {
     "slide_type": "subslide"
    }
   },
   "source": [
    "#### 3.1.2 Numerical features\n",
    "Standard scaling (center at zero, unit variance)"
   ]
  },
  {
   "cell_type": "code",
   "execution_count": 6,
   "metadata": {
    "slideshow": {
     "slide_type": "fragment"
    }
   },
   "outputs": [],
   "source": [
    "df_train[numeric_features] = StandardScaler().fit_transform(df_train[numeric_features].astype(float))\n",
    "df_test[numeric_features]  = StandardScaler().fit_transform(df_test[numeric_features].astype(float))"
   ]
  },
  {
   "cell_type": "markdown",
   "metadata": {
    "slideshow": {
     "slide_type": "subslide"
    }
   },
   "source": [
    "#### 3.1.3 Target variable\n",
    "Convert to integer"
   ]
  },
  {
   "cell_type": "code",
   "execution_count": 7,
   "metadata": {
    "slideshow": {
     "slide_type": "fragment"
    }
   },
   "outputs": [],
   "source": [
    "df_train[target_variable] = df_train[target_variable].astype(int)\n",
    "df_test[target_variable]  = df_test[target_variable].astype(int)"
   ]
  },
  {
   "cell_type": "markdown",
   "metadata": {
    "slideshow": {
     "slide_type": "subslide"
    }
   },
   "source": [
    "#### 3.1.4 Feature name conversion\n",
    "`xgboost` doesn't accept '<'"
   ]
  },
  {
   "cell_type": "code",
   "execution_count": 8,
   "metadata": {
    "slideshow": {
     "slide_type": "fragment"
    }
   },
   "outputs": [],
   "source": [
    "df_train.columns = df_train.columns.str.replace('_<=50K', '_leq50k')\n",
    "df_test.columns  = df_test.columns.str.replace('_<=50K', '_leq50k')"
   ]
  },
  {
   "cell_type": "markdown",
   "metadata": {
    "slideshow": {
     "slide_type": "subslide"
    }
   },
   "source": [
    "### 3.2 Prediction\n",
    "Model choice: `XGBClassifier` from `xgboost`\n",
    "- Good performance out of the box\n",
    "- Built-in feature selection\n",
    "- Allows for mix of categorical and numeric features\n",
    "- Provides feature importances\n",
    "- Interface with `scikit-learn`\n",
    "\n",
    "Risk: overfitting    \n",
    "Mitigation: limit `max_depth`"
   ]
  },
  {
   "cell_type": "code",
   "execution_count": 9,
   "metadata": {
    "slideshow": {
     "slide_type": "subslide"
    }
   },
   "outputs": [],
   "source": [
    "features = list(set(df_train.columns) - set(['college-educated', \n",
    "                                             'native-country_Holand-Netherlands']))"
   ]
  },
  {
   "cell_type": "code",
   "execution_count": 10,
   "metadata": {
    "slideshow": {
     "slide_type": "subslide"
    }
   },
   "outputs": [
    {
     "name": "stdout",
     "output_type": "stream",
     "text": [
      "--- Validation set performance ---\n",
      "Baseline accuracy: \n",
      "\n",
      "1    53.861508\n",
      "0    46.138492\n",
      "Name: college-educated, dtype: float64\n",
      "\n",
      "Model accuracy:    73.68\n",
      "AUC:               0.74\n",
      "\n",
      "              precision    recall  f1-score   support\n",
      "\n",
      "           0       0.71      0.72      0.72      3005\n",
      "           1       0.76      0.75      0.75      3508\n",
      "\n",
      "   micro avg       0.74      0.74      0.74      6513\n",
      "   macro avg       0.74      0.74      0.74      6513\n",
      "weighted avg       0.74      0.74      0.74      6513\n",
      "\n",
      "--- Test set performance ---\n",
      "Baseline accuracy: \n",
      "\n",
      "1    54.314846\n",
      "0    45.685154\n",
      "Name: college-educated, dtype: float64\n",
      "\n",
      "Model accuracy:    72.86\n",
      "AUC:               0.73\n",
      "\n",
      "              precision    recall  f1-score   support\n",
      "\n",
      "           0       0.70      0.72      0.71      7438\n",
      "           1       0.76      0.74      0.75      8843\n",
      "\n",
      "   micro avg       0.73      0.73      0.73     16281\n",
      "   macro avg       0.73      0.73      0.73     16281\n",
      "weighted avg       0.73      0.73      0.73     16281\n",
      "\n"
     ]
    }
   ],
   "source": [
    "clf = my_predict.analyze_model(df_train, df_test, \n",
    "                               features  = features, \n",
    "                               target    = 'college-educated',\n",
    "                               estimator = XGBClassifier(max_depth = 10))"
   ]
  },
  {
   "cell_type": "code",
   "execution_count": 11,
   "metadata": {
    "slideshow": {
     "slide_type": "subslide"
    }
   },
   "outputs": [
    {
     "data": {
      "image/png": "[encoded data removed]",
      "text/plain": [
       "<Figure size 432x288 with 1 Axes>"
      ]
     },
     "metadata": {},
     "output_type": "display_data"
    }
   ],
   "source": [
    "xgb.plot_importance(clf, max_num_features = 20);"
   ]
  },
  {
   "cell_type": "markdown",
   "metadata": {
    "slideshow": {
     "slide_type": "fragment"
    }
   },
   "source": [
    "- Remove `fnlwgt`? \n",
    "- `age` makes sense (partially cheating)\n",
    "- `hours-per-week` is important, as expected\n",
    "- `sex_Male` should be investigated further (bias?)"
   ]
  },
  {
   "cell_type": "markdown",
   "metadata": {
    "slideshow": {
     "slide_type": "subslide"
    }
   },
   "source": [
    "#### Other things to look at\n",
    "- ROC curve\n",
    "- Learning curves\n",
    "- Parameter tuning"
   ]
  }
 ],
 "metadata": {
  "celltoolbar": "Slideshow",
  "kernelspec": {
   "display_name": "Python 3",
   "language": "python",
   "name": "python3"
  },
  "language_info": {
   "codemirror_mode": {
    "name": "ipython",
    "version": 3
   },
   "file_extension": ".py",
   "mimetype": "text/x-python",
   "name": "python",
   "nbconvert_exporter": "python",
   "pygments_lexer": "ipython3",
   "version": "3.6.3"
  }
 },
 "nbformat": 4,
 "nbformat_minor": 2
}
