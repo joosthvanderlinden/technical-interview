{
 "cells": [
  {
   "cell_type": "markdown",
   "metadata": {
    "slideshow": {
     "slide_type": "slide"
    }
   },
   "source": [
    "## Technical interview\n",
    "By Joost van der Linden, February 11th, 2019.\n",
    "\n",
    "Using [RISE](https://github.com/damianavila/RISE) for in-browser presentation."
   ]
  },
  {
   "cell_type": "markdown",
   "metadata": {
    "slideshow": {
     "slide_type": "subslide"
    }
   },
   "source": [
    "**In this presentation**\n",
    "1. Code and research findings\n",
    "    * Data transformation\n",
    "    * Data exploration\n",
    "    * Data visualization\n",
    "    * Machine learning\n",
    "2. Code structure and style\n",
    "3. Scaling up\n",
    "\n",
    "Preference for emphasis?"
   ]
  },
  {
   "cell_type": "markdown",
   "metadata": {
    "slideshow": {
     "slide_type": "subslide"
    }
   },
   "source": [
    "**Key question**\n",
    "\n",
    "Can we predict whether or not the adult has a college (or more advanced) degree?"
   ]
  },
  {
   "cell_type": "markdown",
   "metadata": {
    "slideshow": {
     "slide_type": "subslide"
    }
   },
   "source": [
    "**Data used**    \n",
    "\n",
    "[Adult Data Set](http://mlr.cs.umass.edu/ml/datasets/Adult)    \n",
    "1994 Census data, including income    "
   ]
  }
 ],
 "metadata": {
  "celltoolbar": "Slideshow",
  "kernelspec": {
   "display_name": "Python 3",
   "language": "python",
   "name": "python3"
  },
  "language_info": {
   "codemirror_mode": {
    "name": "ipython",
    "version": 3
   },
   "file_extension": ".py",
   "mimetype": "text/x-python",
   "name": "python",
   "nbconvert_exporter": "python",
   "pygments_lexer": "ipython3",
   "version": "3.6.3"
  }
 },
 "nbformat": 4,
 "nbformat_minor": 2
}
